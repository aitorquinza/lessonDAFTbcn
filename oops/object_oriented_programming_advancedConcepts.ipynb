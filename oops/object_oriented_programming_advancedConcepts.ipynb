{
 "cells": [
  {
   "cell_type": "raw",
   "metadata": {},
   "source": [
    "__init__  is a special function that is called first when an instance of the class is \n",
    "created. \n",
    "\n",
    "age() is a custom method defined. \n",
    "\n",
    "\n",
    "CONSTRUCTOR \n",
    "\n",
    "__init__ is sometimes called the object’s constructor, because it is used similarly to the way that constructors are used in other languages like C++. \n",
    "A constructor is a member function of a class which initializes objects of a class. In C++, Constructor is automatically called when object(instance of class) create. It is special member function of the class.A constructor is different from normal functions in following ways:\n",
    "\n",
    "Constructor has same name as the class itself\n",
    "Constructors don’t have return type\n",
    "A constructor is automatically called when an object is created.\n",
    "If we do not specify a constructor, C++ compiler generates a default constructor"
   ]
  },
  {
   "cell_type": "raw",
   "metadata": {},
   "source": [
    "FUNCTION OVERLOADING\n",
    "\n",
    "Any class that you define has object as its parent class even if you don’t explicitly say so – so your class will have a lot of default attributes and methods that any Python object has. This is why you can just leave out the __init__ method out of your class if you don’t have any initialisation to do – the default that you inherited from object (which does nothing) will be used instead. If you do write your own __init__ method, it will override the default method. Sometimes we also call this overloading. The same goes for other special functions such as _str_ etc. These are also somtimes called magic methods\n",
    "\n",
    "Here are some examples of special object properties:\n",
    "\n",
    "__init__: the initialisation method of an object, which is called when the object is created.\n",
    "__str__: the string representation method of an object, which is called when you use the str function to convert that object to a string.\n",
    "__class__: an attribute which stores the the class (or type) of an object – this is what is returned when you use the type function on the object.\n",
    "__eq__: a method which determines whether this object is equal to another. There are also other methods for determining if it’s not equal, less than, etc.. These methods are used in object comparisons, for example when we use the equality operator == to check if two objects are equal.\n",
    "__add__ is a method which allows this object to be added to another object. There are equivalent methods for all the other arithmetic operators. Not all objects support all arithemtic operations – numbers have all of these methods defined, but other objects may only have a subset.\n",
    "__iter__: a method which returns an iterator over the object – we will find it on strings, lists and other iterables. It is executed when we use the iter function on the object.\n",
    "__len__: a method which calculates the length of an object – we will find it on sequences. It is executed when we use the len function of an object.\n",
    "__dict__: a dictionary which contains all the instance attributes of an object, with their names as keys. It can be useful if we want to iterate over all the attributes of an object. __dict__ does not include any methods, class attributes or special default attributes like __class__"
   ]
  },
  {
   "cell_type": "code",
   "execution_count": null,
   "metadata": {},
   "outputs": [],
   "source": []
  },
  {
   "cell_type": "raw",
   "metadata": {},
   "source": [
    "One important principle of object orientation is encapsulation\n",
    "\n",
    "Using this, we can restrict access to methods and variables. This prevent data from direct modification which is called encapsulation.\n",
    "In Python, we denote private attribute using underscore as prefix i.e single “ _ “ or double “ __“."
   ]
  },
  {
   "cell_type": "code",
   "execution_count": null,
   "metadata": {},
   "outputs": [],
   "source": [
    "class Computer:\n",
    "\n",
    "    def __init__(self):\n",
    "        self.__maxprice = 900\n",
    "\n",
    "    def sell(self):\n",
    "        print(\"Selling Price: {}\".format(self.__maxprice))\n",
    "\n",
    "    def setMaxPrice(self, price):\n",
    "        self.__maxprice = price\n",
    "\n",
    "c = Computer()\n",
    "c.sell()\n",
    "\n",
    "# change the price\n",
    "c.__maxprice = 1000\n",
    "c.sell()\n",
    "\n",
    "# using setter function\n",
    "c.setMaxPrice(1000)\n",
    "c.sell()"
   ]
  },
  {
   "cell_type": "code",
   "execution_count": null,
   "metadata": {},
   "outputs": [],
   "source": []
  },
  {
   "cell_type": "raw",
   "metadata": {},
   "source": [
    "Another important concept is Inheritence \n",
    "\n",
    "Inheritance is a way of arranging objects in a hierarchy from the most general to the most specific. An object which inherits from another object is considered to be a subtype of that object."
   ]
  },
  {
   "cell_type": "code",
   "execution_count": null,
   "metadata": {},
   "outputs": [],
   "source": [
    "# parent class\n",
    "class Bird:\n",
    "    \n",
    "    def __init__(self):\n",
    "        print(\"Bird is ready\")\n",
    "\n",
    "    def whoisThis(self):\n",
    "        print(\"Bird\")\n",
    "\n",
    "    def swim(self):\n",
    "        print(\"Swim faster\")\n",
    "\n",
    "# child class\n",
    "class Penguin(Bird):\n",
    "\n",
    "    def __init__(self):\n",
    "        # call super() function\n",
    "        super().__init__()\n",
    "        print(\"Penguin is ready\")\n",
    "\n",
    "    def whoisThis(self, name):\n",
    "        print(name)\n",
    "        print(\"Penguin\")\n",
    "\n",
    "    def run(self):\n",
    "        print(\"Run faster\")\n",
    "\n",
    "peggy = Penguin()\n",
    "peggy.whoisThis()\n",
    "peggy.swim()\n",
    "peggy.run()"
   ]
  },
  {
   "cell_type": "code",
   "execution_count": null,
   "metadata": {},
   "outputs": [],
   "source": []
  },
  {
   "cell_type": "raw",
   "metadata": {},
   "source": [
    "Polymorphism is an ability (in OOP) to use common interface for multiple form (data types).\n",
    "\n",
    "Suppose, we need to color a shape, there are multiple shape \n",
    "option (rectangle, square, circle). However we could use same method to color any shape. \n",
    "This concept is called Polymorphism."
   ]
  },
  {
   "cell_type": "code",
   "execution_count": null,
   "metadata": {},
   "outputs": [],
   "source": [
    "class Parrot:\n",
    "\n",
    "    def fly(self):\n",
    "        print(\"Parrot can fly\")\n",
    "    \n",
    "    def swim(self):\n",
    "        print(\"Parrot can't swim\")\n",
    "\n",
    "class Penguin:\n",
    "\n",
    "    def fly(self):\n",
    "        print(\"Penguin can't fly\")\n",
    "    \n",
    "    def swim(self):\n",
    "        print(\"Penguin can swim\")\n",
    "\n",
    "# common interface\n",
    "def flying_test(bird):\n",
    "    bird.fly()\n",
    "\n",
    "#instantiate objects\n",
    "blu = Parrot()\n",
    "peggy = Penguin()\n",
    "\n",
    "# passing the object\n",
    "flying_test(blu)\n",
    "flying_test(peggy)"
   ]
  }
 ],
 "metadata": {
  "kernelspec": {
   "display_name": "Python 3",
   "language": "python",
   "name": "python3"
  },
  "language_info": {
   "codemirror_mode": {
    "name": "ipython",
    "version": 3
   },
   "file_extension": ".py",
   "mimetype": "text/x-python",
   "name": "python",
   "nbconvert_exporter": "python",
   "pygments_lexer": "ipython3",
   "version": "3.7.3"
  }
 },
 "nbformat": 4,
 "nbformat_minor": 2
}
